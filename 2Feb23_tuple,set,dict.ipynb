{
 "cells": [
  {
   "cell_type": "markdown",
   "id": "8346f139-2fa9-496f-b0d5-1b1b245c241f",
   "metadata": {},
   "source": [
    "##  Q1) What are the characteristics of the tuples? Is tuple immutable?"
   ]
  },
  {
   "cell_type": "markdown",
   "id": "3dbbe2cc-5e3c-48bf-a36c-ca3f9cbd967d",
   "metadata": {},
   "source": [
    "* In Python, tuples are an ordered collection of elements that are immutable, meaning they cannot be changed once created. Here are some key characteristics of tuples:\n",
    "\n",
    "* 1) Tuples are ordered: This means that the elements in a tuple are stored in a specific order, and that order will be preserved when you access the elements of the tuple.\n",
    "\n",
    "* 2) Tuples can contain any type of object: You can create a tuple with elements of any type, including other tuples.\n",
    "\n",
    "* 3) Tuples are immutable: Once a tuple is created, its elements cannot be changed. This means you cannot add, remove, or modify elements of a tuple.\n",
    "\n",
    "* 4) Tuples can be accessed by index: You can access the elements of a tuple by their index, just like you would with a list. However, because tuples are immutable, you cannot use indexing to change the value of an element.\n",
    "\n",
    "* 5) Tuples are hashable: Because tuples are immutable, they can be used as keys in dictionaries and as elements of sets.\n",
    "\n",
    "* Overall, tuples are a useful data structure in Python when you need to store a collection of elements that should not be changed."
   ]
  },
  {
   "cell_type": "markdown",
   "id": "34b7925d-36b6-40c8-b6cf-86a6e86c254f",
   "metadata": {},
   "source": [
    "#"
   ]
  },
  {
   "cell_type": "markdown",
   "id": "f76f261e-ad31-4342-907b-448c8208ad6e",
   "metadata": {},
   "source": [
    "#"
   ]
  },
  {
   "cell_type": "markdown",
   "id": "d352f695-fd52-411d-ac15-e4b7458bd018",
   "metadata": {},
   "source": [
    "## Q2. What are the two tuple methods in python? Give an example of each method. Give a reason why tuples have only two in-built methods as compared to Lists."
   ]
  },
  {
   "cell_type": "markdown",
   "id": "00fa1bac-356c-41bf-9233-b733bfa75dde",
   "metadata": {},
   "source": [
    "* There are two methods for tuples :"
   ]
  },
  {
   "cell_type": "markdown",
   "id": "237aa134-ddf5-489c-9c63-255ccf40f159",
   "metadata": {},
   "source": [
    "* The **count()** method returns the number of times a specified element appears in the tuple. Here's an example:"
   ]
  },
  {
   "cell_type": "code",
   "execution_count": 4,
   "id": "4fd451a8-e07d-46ec-b201-ec03d0215001",
   "metadata": {},
   "outputs": [
    {
     "data": {
      "text/plain": [
       "2"
      ]
     },
     "execution_count": 4,
     "metadata": {},
     "output_type": "execute_result"
    }
   ],
   "source": [
    "tuple1 = (12, 32, 62, 33, 33, 63)\n",
    "tuple1.count(33)\n"
   ]
  },
  {
   "cell_type": "markdown",
   "id": "75d708a6-9c68-4a95-97c7-b7ce94c0014a",
   "metadata": {},
   "source": [
    "* The **index()** method returns the index of the first occurrence of a specified element in the tuple. Here's an example:"
   ]
  },
  {
   "cell_type": "code",
   "execution_count": 6,
   "id": "3779b5a3-8817-4a45-ad87-e660702b2dca",
   "metadata": {},
   "outputs": [
    {
     "data": {
      "text/plain": [
       "1"
      ]
     },
     "execution_count": 6,
     "metadata": {},
     "output_type": "execute_result"
    }
   ],
   "source": [
    "tuple2 = (11, 21, 21, 31, 31, 31)\n",
    "tuple2.index(21)\n"
   ]
  },
  {
   "cell_type": "markdown",
   "id": "8b82938a-eb93-47f8-9f74-236bad1f63ba",
   "metadata": {},
   "source": [
    "* Tuples are immutable, which means they cannot be modified once they are created. This makes it unnecessary to have methods like append(), insert(), or remove() that modify the tuple. Instead, tuples are designed to be used as an ordered sequence of elements that cannot be changed, which makes them useful for things like returning multiple values from a function or as keys in a dictionary. The lack of these methods also makes tuples more memory-efficient than lists, which need to allocate more space to allow for changes."
   ]
  },
  {
   "cell_type": "markdown",
   "id": "4114686b-bfa9-46ce-b9a3-f73f1492c6bf",
   "metadata": {},
   "source": [
    "#\n",
    "\n",
    "\n",
    "\n",
    "\n",
    "\n"
   ]
  },
  {
   "cell_type": "markdown",
   "id": "80a848c2-5b16-4a96-bd50-2c7c0fa7fd63",
   "metadata": {},
   "source": [
    "#"
   ]
  },
  {
   "cell_type": "markdown",
   "id": "9ac392ca-93e8-47f4-b6c0-95180e96deed",
   "metadata": {},
   "source": [
    "## Q3. Which collection datatypes in python do not allow duplicate items? Write a code using a set to remove duplicates from the given list.List = [1, 1, 1, 2, 1, 3, 1, 4, 2, 1, 2, 2, 2, 3, 2, 4, 3, 1, 3, 2, 3, 3, 3, 4, 4, 1, 4, 2, 4, 3, 4, 4]"
   ]
  },
  {
   "cell_type": "markdown",
   "id": "eafaf8d7-c2b7-471f-9cfd-08df2d33dd44",
   "metadata": {},
   "source": [
    "* Sets in Python do not allow duplicate items. Sets are unordered collections of unique elements. Here's an example code to remove duplicates from the given list using a set"
   ]
  },
  {
   "cell_type": "code",
   "execution_count": null,
   "id": "6abb8ce1-86fa-4f8b-89ce-7ab013f74723",
   "metadata": {},
   "outputs": [],
   "source": [
    "given_list = [1, 1, 1, 2, 1, 3, 1, 4, 2, 1, 2, 2, 2, 3, 2, 4, 3, 1, 3, 2, 3, 3, 3, 4, 4, 1, 4, 2, 4, 3, 4, 4]\n",
    "a=set(given_list)\n",
    "l=list(a)\n",
    "print(l)"
   ]
  },
  {
   "cell_type": "markdown",
   "id": "b7be3707-b066-48be-bcc7-512176f392ef",
   "metadata": {},
   "source": [
    "#"
   ]
  },
  {
   "cell_type": "markdown",
   "id": "21c0bd3c-14cf-427d-a0ca-c4b24ac67f00",
   "metadata": {},
   "source": [
    "#"
   ]
  },
  {
   "cell_type": "markdown",
   "id": "01f23ca1-e525-4b2d-8a37-ddb05cbc4cc8",
   "metadata": {},
   "source": [
    "## Q4. Explain the difference between the union() and update() methods for a set. Give an example of each method."
   ]
  },
  {
   "cell_type": "markdown",
   "id": "768d8cb0-1908-451c-b53c-39b8bb2aa726",
   "metadata": {},
   "source": [
    "* Both union() and update() are methods used with sets in Python, but they have different behaviors and purposes.\n",
    "\n",
    "* The ***union()*** method returns a new set that contains all the unique elements from both sets. The original sets are not modified. Here's an example:"
   ]
  },
  {
   "cell_type": "code",
   "execution_count": 29,
   "id": "abb70401-7215-4889-8923-786907e2e918",
   "metadata": {},
   "outputs": [
    {
     "name": "stdout",
     "output_type": "stream",
     "text": [
      "{0, 1, 2, 3, 4, 5, 9}\n"
     ]
    }
   ],
   "source": [
    "set1 = {1, 2, 3, 4, 4}\n",
    "set2 = {3, 4, 5, 9, 0}\n",
    "union_set = set1.union(set2)\n",
    "print(union_set)"
   ]
  },
  {
   "cell_type": "markdown",
   "id": "740e831f-8dc4-46d0-b439-8368a5ca7de2",
   "metadata": {},
   "source": [
    "* The ***update()*** method, on the other hand, modifies the original set by adding all the unique elements from another set. Here's an example:"
   ]
  },
  {
   "cell_type": "code",
   "execution_count": 30,
   "id": "b996e9ed-5b2e-43f6-8fe3-6d0f7548d46a",
   "metadata": {},
   "outputs": [
    {
     "name": "stdout",
     "output_type": "stream",
     "text": [
      "{0, 1, 2, 3, 4, 5, 9}\n"
     ]
    }
   ],
   "source": [
    "set1 = {1, 2, 3, 4, 4}\n",
    "set2 = {3, 4, 5, 9, 0}\n",
    "set1.update(set2)\n",
    "print(set1)\n"
   ]
  },
  {
   "cell_type": "markdown",
   "id": "5ecec6a9-677e-45f5-bc0c-c4d351734d2d",
   "metadata": {},
   "source": [
    "* In summary, union() creates a new set containing all the unique elements from two sets, while update() modifies an existing set by adding all the unique elements from another set to it."
   ]
  },
  {
   "cell_type": "markdown",
   "id": "76392ad7-7268-494d-ab66-1b17999c023b",
   "metadata": {},
   "source": [
    "#"
   ]
  },
  {
   "cell_type": "markdown",
   "id": "c7546c3a-5e2f-4851-8a1a-99168f60177d",
   "metadata": {},
   "source": [
    "#"
   ]
  },
  {
   "cell_type": "markdown",
   "id": "d610f958-a717-4ca8-a34d-a8f4c3f3a1b2",
   "metadata": {},
   "source": [
    "## Q5. What is a dictionary? Give an example. Also, state whether a dictionary is ordered or unordered."
   ]
  },
  {
   "cell_type": "markdown",
   "id": "ce0575ca-1f5c-4ff1-aad2-75b57eb3c1a4",
   "metadata": {},
   "source": [
    "* A dictionary is a built-in data structure in Python that allows you to store and retrieve key-value pairs. In other words, a dictionary is a collection of unordered, mutable, and indexed elements, where each element is stored as a key-value pair.\n",
    "\n",
    "* In a dictionary, keys must be unique, immutable objects (such as strings, integers, or tuples), while values can be of any data type, including lists or other dictionaries. You can access the values in a dictionary by referencing their corresponding keys.\n",
    "\n",
    "* Here's an example of a dictionary in Python:"
   ]
  },
  {
   "cell_type": "code",
   "execution_count": 31,
   "id": "5a0131eb-56bb-40d8-9f69-5660ec1178d1",
   "metadata": {},
   "outputs": [
    {
     "name": "stdout",
     "output_type": "stream",
     "text": [
      "vjay\n",
      "24\n",
      "Hyderabad\n"
     ]
    }
   ],
   "source": [
    "person = {\n",
    "    \"name\": \"vjay\",\n",
    "    \"age\": 24,\n",
    "    \"gender\": \"male\",\n",
    "    \"address\": {\n",
    "        \"street\": \"mallikarjuna nagar\",\n",
    "        \"city\": \"Hyderabad\",\n",
    "        \"state\": \"telangana\"\n",
    "    }\n",
    "}\n",
    "\n",
    "print(person[\"name\"])\n",
    "print(person[\"age\"])\n",
    "print(person[\"address\"][\"city\"]) \n"
   ]
  },
  {
   "cell_type": "markdown",
   "id": "abc2c604-67e0-4f9b-b2e7-a1372f432d01",
   "metadata": {},
   "source": [
    "* Dictionaries are unordered, meaning that the order in which elements are stored is not necessarily the same as the order in which they were added to the dictionary. This means that you cannot rely on the order of elements in a dictionary, and if you need to preserve order, you should use a different data structure, such as a list."
   ]
  },
  {
   "cell_type": "markdown",
   "id": "8c94fa35-e6b2-456f-87c7-3ef1255e0456",
   "metadata": {},
   "source": [
    "# "
   ]
  },
  {
   "cell_type": "markdown",
   "id": "42a30e54-948c-4535-8af5-9a6bbca1cead",
   "metadata": {},
   "source": [
    "#"
   ]
  },
  {
   "cell_type": "markdown",
   "id": "2428549d-1059-4d0c-aa80-076364f3f953",
   "metadata": {},
   "source": [
    "## Q6. Can we create a nested dictionary? If so, please give an example by creating a simple one-level nested dictionary."
   ]
  },
  {
   "cell_type": "markdown",
   "id": "0c423788-52cf-45ca-9769-7e49d5d2d307",
   "metadata": {},
   "source": [
    "* Yes, we can create a nested dictionary in Python. A nested dictionary is simply a dictionary that contains another dictionary as one of its values.\n",
    "\n",
    "* Here's an example of a one-level nested dictionary:"
   ]
  },
  {
   "cell_type": "code",
   "execution_count": 32,
   "id": "05097ee2-29d5-461f-aedb-e521df1e85a3",
   "metadata": {},
   "outputs": [
    {
     "name": "stdout",
     "output_type": "stream",
     "text": [
      "{'color': 'red', 'taste': 'sweet'}\n",
      "sweet\n"
     ]
    }
   ],
   "source": [
    "fruits = { \"apple\": { \"color\": \"red\", \"taste\": \"sweet\"}, \"banana\": {\"color\": \"yellow\",\"taste\": \"sweet\"},\n",
    "    \"kiwi\": {\"color\": \"brown\",\"taste\": \"sour\"}}\n",
    "\n",
    "print(fruits[\"apple\"]) \n",
    "print(fruits[\"banana\"][\"taste\"]) \n"
   ]
  },
  {
   "cell_type": "markdown",
   "id": "54a6ffe7-f37f-404b-9bab-f7e5a42d7605",
   "metadata": {},
   "source": [
    "#"
   ]
  },
  {
   "cell_type": "markdown",
   "id": "21c4f35a-f243-48d5-b888-f88c612bea5e",
   "metadata": {},
   "source": [
    "#"
   ]
  },
  {
   "cell_type": "markdown",
   "id": "a45f48a7-a790-4b69-bd4c-2df9087e23b7",
   "metadata": {},
   "source": [
    "## Q7. Using setdefault() method, create key named topics in the given dictionary and also add the value of the key as this list ['Python', 'Machine Learning’, 'Deep Learning'] dict1 = {'language' : 'Python', 'course': 'Data Science Masters'}"
   ]
  },
  {
   "cell_type": "markdown",
   "id": "9506e6a3-1693-413d-9dc6-e6d2ad194b41",
   "metadata": {},
   "source": [
    "* The ***setdefault()*** method takes two arguments: the first argument is the key to be added, and the second argument is the value to be assigned to the key. If the key already exists in the dictionary, the method returns its corresponding value. If the key doesn't exist, it adds the key-value pair to the dictionary and returns the value assigned to the key."
   ]
  },
  {
   "cell_type": "code",
   "execution_count": 34,
   "id": "d31b94bb-cb9b-4733-8b5f-f90c1f749070",
   "metadata": {},
   "outputs": [
    {
     "name": "stdout",
     "output_type": "stream",
     "text": [
      "{'language': 'Python', 'course': 'Data Science Masters', 'topics': ['Python', 'Machine Learning', 'Deep Learning']}\n"
     ]
    }
   ],
   "source": [
    "##IF THE KEY DOES NOT EXIST\n",
    "dict1 = {'language' : 'Python', 'course': 'Data Science Masters'}\n",
    "dict1.setdefault(\"topics\", ['Python', 'Machine Learning', 'Deep Learning'])\n",
    "print(dict1)"
   ]
  },
  {
   "cell_type": "code",
   "execution_count": 35,
   "id": "5c1fc492-98a5-4145-8ec5-a0debd50a0c3",
   "metadata": {},
   "outputs": [
    {
     "name": "stdout",
     "output_type": "stream",
     "text": [
      "{'topics': 'Python', 'course': 'Data Science Masters'}\n"
     ]
    }
   ],
   "source": [
    "##IF THE KEY EXIST\n",
    "dict1 = {'topics' : 'Python', 'course': 'Data Science Masters'}\n",
    "dict1.setdefault(\"topics\", ['Python', 'Machine Learning', 'Deep Learning'])\n",
    "print(dict1)"
   ]
  },
  {
   "cell_type": "markdown",
   "id": "a451f41f-2399-4e83-9182-5e64f86dde1d",
   "metadata": {},
   "source": [
    "#\n"
   ]
  },
  {
   "cell_type": "markdown",
   "id": "bd6a7667-c4fa-4839-baff-fc850e27d11e",
   "metadata": {},
   "source": [
    "#"
   ]
  },
  {
   "cell_type": "markdown",
   "id": "3104589e-c559-4cc5-a003-6f56e101dec1",
   "metadata": {},
   "source": [
    "## Q8. What are the three view objects in dictionaries? Use the three in-built methods in python to display these three view objects for the given dictionary.\n",
    "## dict1 = {'Sport': 'Cricket' , 'Teams': ['India', 'Australia', 'England', 'South Africa', 'Sri Lanka', 'New Zealand']}"
   ]
  },
  {
   "cell_type": "markdown",
   "id": "0114752c-5e24-4283-94e1-56ef36592d74",
   "metadata": {},
   "source": [
    "* In Python, there are three types of view objects that can be used to access the keys, values, and key-value pairs of a dictionary. These view objects are:\n",
    "\n",
    "* 1) dict_keys: A view object that contains the keys of the dictionary.\n",
    "* 2) dict_values: A view object that contains the values of the dictionary.\n",
    "* 3) dict_items: A view object that contains the key-value pairs of the dictionary.\n",
    "\n",
    "\n",
    "* Here's an example of how to use the three built-in methods to display these view objects for the given dictionary dict1:"
   ]
  },
  {
   "cell_type": "code",
   "execution_count": 36,
   "id": "a8720518-fb4b-449a-9843-820b46bda33d",
   "metadata": {},
   "outputs": [
    {
     "name": "stdout",
     "output_type": "stream",
     "text": [
      "dict_keys(['Sport', 'Teams'])\n",
      "dict_values(['Cricket', ['India', 'Australia', 'England', 'South Africa', 'Sri Lanka', 'New Zealand']])\n",
      "dict_items([('Sport', 'Cricket'), ('Teams', ['India', 'Australia', 'England', 'South Africa', 'Sri Lanka', 'New Zealand'])])\n"
     ]
    }
   ],
   "source": [
    "dict1 = {'Sport': 'Cricket', 'Teams': ['India', 'Australia', 'England', 'South Africa', 'Sri Lanka', 'New Zealand']}\n",
    "\n",
    "# Displaying dict_keys object\n",
    "print(dict1.keys())\n",
    "\n",
    "# Displaying dict_values object\n",
    "print(dict1.values())\n",
    "\n",
    "# Displaying dict_items object\n",
    "print(dict1.items())\n"
   ]
  }
 ],
 "metadata": {
  "kernelspec": {
   "display_name": "Python 3 (ipykernel)",
   "language": "python",
   "name": "python3"
  },
  "language_info": {
   "codemirror_mode": {
    "name": "ipython",
    "version": 3
   },
   "file_extension": ".py",
   "mimetype": "text/x-python",
   "name": "python",
   "nbconvert_exporter": "python",
   "pygments_lexer": "ipython3",
   "version": "3.10.8"
  }
 },
 "nbformat": 4,
 "nbformat_minor": 5
}
